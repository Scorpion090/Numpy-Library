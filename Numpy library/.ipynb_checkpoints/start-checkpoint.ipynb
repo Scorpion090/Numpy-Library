{
 "cells": [
  {
   "cell_type": "markdown",
   "metadata": {},
   "source": [
    "# Numpy library ---"
   ]
  },
  {
   "cell_type": "markdown",
   "metadata": {},
   "source": [
    "<img src=\"https://upload.wikimedia.org/wikipedia/commons/1/1a/NumPy_logo.svg\" alt=\"Numpy Logo\" width=\"250\" height=\"150\">\n"
   ]
  },
  {
   "cell_type": "markdown",
   "metadata": {},
   "source": [
    "__Uses of numpy --__"
   ]
  },
  {
   "cell_type": "markdown",
   "metadata": {},
   "source": [
    "<img src=\"https://www.interviewbit.com/blog/wp-content/uploads/2021/10/uses-of-numpy.png\" alt=\"Numpy Uses\" width=\"450\" height=\"200\">"
   ]
  },
  {
   "cell_type": "markdown",
   "metadata": {},
   "source": [
    "# __Numpy advantanges -__"
   ]
  },
  {
   "cell_type": "markdown",
   "metadata": {},
   "source": [
    "__1.Numpy provides efficient storage.\n",
    "2.It's also provide the better way to handling the data.\n",
    "3.It'easy to learn.\n",
    "4.It's fast.\n",
    "5.Numpy use less memory to store the data.__"
   ]
  },
  {
   "cell_type": "markdown",
   "metadata": {},
   "source": [
    "<img src=\"data:image/jpeg;base64,/9j/4AAQSkZJRgABAQAAAQABAAD/2wCEAAkGBxISEhUTExMWFhUXFRgaGBgYGBgXGhcZFh8XGBgWFh4YISggGBomHRkYIjEhJSkrLi4uFx8zODMtNygtLisBCgoKDg0OGxAQGy0lICUtLS8tLy8tLS0tLS0tLS8tLS0tLS0tLS0tLS0tLS0tLS0tLS0tLS0tLS0tLS0tLS0tLf/AABEIAIkBcAMBIgACEQEDEQH/xAAcAAABBAMBAAAAAAAAAAAAAAAGAAQFBwIDCAH/xABKEAACAQIEBAIGBQgGCQUBAAABAhEAAwQSITEFBkFRImEHEzJxgZEUQlKhsSNic5KywdHwNGNygrPhFRYzQ1N0wtLxJCU1k6Jk/8QAGwEAAgMBAQEAAAAAAAAAAAAAAwQAAQIFBgf/xAA1EQABAwIDBQcDAwQDAAAAAAABAAIRAyEEEjEFQVFhgRMUInGRofCxweEy0fEGI0JSFWJy/9oADAMBAAIRAxEAPwC8aVKlUUSpUqxY1FFrv3VRSzEBVBJJ2AGpJrG1iVZQymVYAg9wRINVpz5xnGoXw7lArQVZFjMs6TLEjUQR3Hat/JPHcTcRbSojWrehckjKvYnUEgbKANhPel+8DNEFdY7JeMOK2YHfrbLHExed33srBe7Wk36Z/SQQCCCCJBGxB2IoN5442gVVtv8AlEuZyVMBIzDfvrt2ma1UqZRKxhsGaz8gt9vNWCl6nNu7NVdy1zBfxN8LcugIssVWFz5NBPXcho8qOreLjrUZUDhIVYrAuouymJibfApylQ3w/mVLl+5YyuCg1JEidZ1EgCMsTvJ7URIwOoorXB2iSq0X0jDxFgeh0WVKlUPwvH3rly6r2TbVGhGMw41EiQJ2J+XvqEwYWWsLgXDdrceXXopilSppjsWlpC7zlETALHUgDQeZq9BJWWtLiGgXKd0q8Fe1FSVKhrmHmm3hHRGUtmB2+qfDlknSDJnWRG1TWIxSIudmUL4fETp4iANe0ka1kPaSROmqK7D1Wta4tMO/TzvCd0q0WLyuoZSGVhIIMgg7EHqK31pCSpUqVRRKlWq5fVd2A+NMn43YH+8B92tUSBqttpud+kE9FJV5NQN7mHDaMXbwyYE66Eage17u9R68XUYlrpxBNr1cC1B9rXWJ30HeZOg0NZNRoR2YOq4EkEW4G54WB97IvpUP4Xj6XGDZ0W2bc5WBFwPPXWIj76kbfFLDEKLqFiJiRMCJ0+I+dWHA6IT6FRmoKf0q0W7mYEgRqQJ6xInToaE+XTjGxVxnYPYzNqr+DM8GEG7BdiDEEt1FbaAZulnvLSBlJkxbQefojOlWKsDsayqkRKlSprxDGLZttcYMVUScqlj8hUVEwJKdUqH+VuYPpiE+qZCvtTESdl3mYidNPlJBWnNLTBWaVRtRgewyClSpUqytpV5XtB2M4bi2xwuK/wCSgMwViisEYQrDWWjXsR2rTWzvQ6tQsiATJi31RjSqH47xtMKqs4YhjHhE/wCU+Xv7VLA/CqggStB7SS0G416rKlSpVS0lSpVEcw8VXDWHuFgCFOQEjVj7MDrr+FUTAkrdNhqPDG6kwpUtTW/iFUgFgCxgSYk6mB3MA1BcJ5sw92yjPdRLhADIdIbbTuCdR7xUpioMEgGDIkbHUSOxgn51nOHCQUd2HfSdlqNI/HBDvE+ArisRcuYgMUUKltVIgqJOZuoOY7VjwXhgwnrVD5kZgyzow0IIaND01091O75CtnzMxIymWgBZZgco0mYExMVBXbyWmuMrMTcaTJkA/mjppHyFAIAMxddRj6j2dmXeGAAN1j6jjz4BS17GQTJEdP8APXXWh/j2HtOkqii5usAAsRqRp7RiaZYvi+u9Rz8UnsY28jqKG9wIhOYek+mQ9siPl/NS/DeCW7QQ+scXF1lSsT21UyOnnUm3F2zsmUgASG6HyFDdrimm9eXMfPWsyG6Jg0zWMvM8OXkpzEcaFvxRJ20311/GpnA8yZBMM22gEnXTY1Xr39z8TW/DYwjrVCqQUSps6m9sEK58Jj0uDfWnlVNguOFetEuA5qjQmmmVgV57EbLqU7tRrTdrmUMzkBRJkTooG5896EOAcz3ruIuLdRVtx4SMy+yWGZQQSc3vEACipsTacEFgQRBB6g7iiMeHCQkq+GfQdkeOGl/h+aKNxiHFrafD4gqq3AxKfXCkHKegPXUHbaCak8JiMwbwusMV8YAzZfrCN1PesVuWrVsxlVEBMCAFGpOg2G9RGG+ktivWi6jYVkVgoMTmBAIkEzsTqoOYdjVfpPMxP7+S1AqNcAYa2S2ddRaQILiNx5wpvEYW3cK5lDFDmWdYJBWR8Cab8Y4RaxFv1TjwyIgxEdvwpzcxttd3HzoJ5h5xuWr4t27Ya2UKn1kZWJMBwVJIUaiDG/SpUcxovvWsJQr1ag7LVtxeIjhzRrgsKtpFRZyqAACS0AbanU04LUAW+a9EdlNt0VkyKxNsgxBjqQANT51EcQ5vuXBuR5HpWDiGAJpmyMRUdfqfmqP+Lcft2VJHjYD2QQJ+J0qvLfN7vduXvEGIKqJ8IQmVEdTpq3WBUDi+JknxNUbi8ZkUkgdPkdv3fOlqlZzyIXcw2y6OHY7PcnU8uHt9lP3uP3mBzvJ11FR4x7RGb5afcKHH4rmEBSTO/wDIrPBXbgzSupGh00+7+YoZDtSm2VaQMMHsph+Jj7Va/wDSg71GWeGMZlgSQdxt5is7PCoObOZHaP31UNWw+qf8VIvxHSCxE9e4rYnFRmzZvEBAJ3qOHCxBXNI6TuPd8qzucNBQLOxmes6/xNSArmrwCIsJzTdXa5pU5wLnL1K5FtoEkmFAGp3OlANnh5VSpOYdOkHvWvC4G4slm22j4zP3VpryLgoFTDMqjK+nr0Vy8G5mwoBVRkzOXaTIzOdTr509wfM9u67op9g67QYMSp6jY/GqLHELqHVDE6dam8HxxrZGsTBno0+fw+6m6VeC0OFt8D5C4OP2SHte+i8592Y2BneYkyLeforP43zUcPkIQsGaDHaDoOs7HaIBp5c4pmUhtmEET0I11/fQDY5iJy+EGWggaCJ1Pyp/dvZ1IMMCvXxKe1dig2jWns7xG4jXzgLwG0X4/Z5Z3qGh5IHiDh4Yk+EkxfhJgwJsZjh3MWDtrmtFEBgEKI1EwGAHtb+e9YYTnq3cxPq1YeqgjOdJuCDGuwjMPfQy2EVLTqAXzDY9TPgPkQTv5VFrg2VxntAKzgSsdYUGej+fY+VGdhRvXNp7XeR4THt7K1sXzElq2XecojUCTqYn4b/CtXLGIvZWa/dDh/FbiNFaTBgaGI0BIoTsXQi5VEKOn7zO/vrfY4yJ0aYOvwqnYIRZEpbddmBdJj+LotxF7EW7ltba+ttMzm45IzICdAoAEgTpEkx8anBQRgeOXPWjVfVZTO+bN08oj+etFOFx6t1pKrQczULvYPaFKtMHpw8vre/NOrltW3APvE76fga21iGqH4vzBawzBLgbMwlYEhtYieh98DWgBpJgLoPqMY3M4wOKmqVeCvapbSqt/SRwK2oW/blXe4EZVEhywZpj7XhjTee9WRWi5ZVipIBKmVJGx2JHYxp8aHUph7YTWDxbsNVFQdRMSOB6wqt5J4Q9nFKMTZKkoTbzIQPWAA6HYwobTcfCjjieIyg1OXkkaUGc03ioM1hrAwQmquKOLqB5EEADU89JUVizibwLWbT3FkiVjcdNTQ9xHh2PVWdsNcVFUsxOWAqiSTr0FWD6NLmbCMf69/wWpXm7+g4v/lr37DVrICJQe9PpvygDVc/Xse24gxr+741ovcTkDKIkePTTN5fz1FN7ViVms71ttjOhkDSAfdScCV6ZmcNI3FTGFueFTl9od/hm8p0+daXxgmAQfMVDfSLik+I6ggzPX8K2rhWCZiwGkgd9J+HSs5eJRO1tDRprp81up624Ig6z8v53rNLvbaoGxxIqF1BEHQbgydTPvpzh+IqFgiCNd9z2Pb/KslhR2YhvGFJXMSZAG5MD3kwBRGOSOJg6In/2rQNhsUDct7D8okCddxNdP0zRpAi64m0toPpuaGRv+qo7iqYvAlFxAClwxWGDezlB229oVktvHYq0Gs2rrJm0ZCBqpg9QZBp/6drmW5hP7N78bVTnoSxefA3F+xiGHwZbbfiTWuzBdl3Jc41ww7aoAzTw5n9kNXrXEbLevu27qW0WGzEFQGyjaToSF0FLD8zXWU5pA2gGI7kEa0Zel/Fer4c4+3ctr8mz/gpqnsNxBcup/nyrFVpaYCc2bVZXbNQC1uggomx3ELlxkbMfCe5Hx+U+eprRex7Eklukf+KjLtyR4T0kE7H+FRNnFG42XNG+tLgE3XYc6myBHlop3E42BJNMLmKdiAo9rbz0nTvpWDYNrgVWeNddN+x7gxT23h8oH1o20H7vKpYK5e/kLfPRRfq73rNdgdfd+7SnOJQOwQKWckBQBLMRsojU+6nOOugCdv52qy/Rby2tuyuMuCbt5ZSf93aPs5exYeInsQOmpaTC8rnY/ENwrDvJQzwf0XYq4oa69vDg/VjO/wDeCkKP1jUne9EzgeDGCezWdD8n0++rUrVbvK3ssDG8EGPfFOdizgvOu2liCZzR0H3lc/8AMXAsZw/xXrYNvYXVOa3rsG2KHb2gPKahsDib+IuC1Ytl7jSVVYlgASSJ02FdK41FZGVgGUggggEEHcEHcVVHAeXbeE43YNkj1breIQmTb8DSB1ydu21DNBspqntarlIcbx6oTblni5P9Cu//AI/7qjMeMRYf1dwFbixnQ7qSAQDBI2NdP1QfPWLROJ4vNHt24iJ/2dvQyP5mtd2zWb7obdtGl4q5Mf8AUSfSeEodt4q7EZDM6Gfurdaxd0E5g22ka61liOYEUMoIzfV0mflTK/xhvVhxcGYn2cuo/mD91WMC47x7/siP/qSmwiWVL/8Am1yLw4wbb90HenycSePEmlbPW27m4iD1Mb9fOoNOKYhwzKwIQAt7iY6U/bEvdabeQoAMxZSoUwZ7n5Vh2DI3j3HvEItHbzHz4XmNRDXHQn9LXZjpJgGLTqnti1l1tvm8pGv8NqksJxxkOVwRqNDJnaZ7bb1EfS7AtlywkQCBOpIOgB21U07tvntpoIbYhdQeoOp69RRKFGoXeEkHnI9x5fnittPH4RlEiq1tRliQ3K+DEAuDjbWxBJ4Ni4mG4xEdis1la4sS0f5b7H7qiMPgjGRshIY/X+rlQ6dZ1293esWyq2VZEfn5h/Pxrvdo60lfLjhqLs2Rth1gTaT6DS6n7vENK2YXlvGgZreHdg4BBzWtRuI7b0NYu94av3gf9Gsfobf7K0HEYhzSIXQ2Xs2lWDg6Ytp1VZPgsTZA9fba0GOUGVmYJ0gnWAan+XsULgOXN4DlJOhkU79JLRbsfpv+lq1cIcLbLGYVSTGpgamKG2sXtko9XAMo1YZopHja4lrBGHaLkqR0OhGx2HnIIImkeXLd8WXxChryRnYEsHyzoZA8JJmIEbVt4JxW1iQzWiSqtlkgrOgMgHWOkkdDU0lLPJHJdWgxrxJuDHMWPDTX1WVm0qqFUAKBAAEAAbADoK214K9oC6ASoO5r5qfCXrdsWyQxRswOYlJOZcsaMYIH8wY1H4rhdm7Oe0jEgCSozQDKidxB+RrDw4thphM4WpSp1A6s3MOHz72+o34W/nQMUZJE5XgMPIwSAfjUNzThQ6H3U64hxi3au2rLB812QpAgAkgamRG52108xMNxzGWsGtrD5mOfMFLHMR18R31JgfCoXDj5qm0qlnAEEyQOIEyZ5Rw48Fu9HFnJhnX+vf8ABKlebP6Di/8Alr37DVEejrEG5h7hKlSMRcEHfTLB12kRpUxzSJwWKH/8979hqsaIbic9+K5+wC6CtmLIrXcxAt6EA+EEdOm2n860d+j/AJLGJUYrFLNokm1a6ONPG/ddNB13MiJRbTLnL11XGso0cxQRwzljG43xWbDMpP8AtGIRP1m9r+7NTq+h7HsPFew6+Wa43/RV427YAAAgDQAbAdhTTF8Yw9oxdv2rZ7PcRT8iabFJoXnau0Krza3v7/wqMx/oo4laXMi2rpB2t3IPwFwL+NCeKw11LrLiA1q4N1dcrdtAemm+1dT4XFW7gzW3V17qwYfMVGcy8tYbH2javpO+Vxo9s/aRuh8tj1BqOojcrpbQe0w+49PoubuH8PxBuWyli86m5bOcWnKlQw1BAiPOa6roC4BZfA5MLcObIoCtsHUaBgOh7joaNsNdzCtsblCWr1zVdJ+XVSennC33fCGzauXIW8GKIzxJtROUGJg/Kt3oGdlGLsujIQbLw4KnxC4pMH+wKtTGJIqs8fzCnDOJ3GuJcdbuFtgC3lJzLcukE5mGkE1RABlWxz3s7ICV76e73/pLCA74jN8FRx+LCqs4HwLFY1ylq0zsAASICr5uxgD4mT0ox5r4t/pnE4WxZS4vjZfygXTPklxlYyFVWNXHwTg9nCWVsWVyoo+LHqzHqx6msQHulMtqHDUw0i53Hd5/yqis+ifiLL479gT9XM5j5JpTHH8gY3CDM1kXEG7WT6yPepAf5A1fTXAIkgTt5+6s6s0WlZZtKu10yD0+Fc54fEKYOhrbcxA2nU7US+l7DYSzcR7RAxVwy1pRIZdfyrAey0iJ+tr2kAFlbvrB/wCQR8P/ADSdSnlML02Ex3bUw4ArDmG60RrIkHQjXfTofhXS3Bcv0ezl9n1VvL7soj7qoHGYUFZInX5HpH31Z/oq5hW9h/ozH8rhxAH2rX1WH9n2T7h3o+HcNFyttUH2qblq9NH0j6EotFhbN0C/l+wQQA35maAfeKqDh4uYYi7ZcpdB0KGGjz6FT2Ohrpy7aVgVYAggggiQQdCCDuKp3nvkD6OHv4cM1rVmUeJrfcjqy/s9dNQao0kSNVzMJXYxwbUMDymZ48uh5wnz+lMHCCU/9X7OWCLcx/tSfs/mTMgjbWh70d8Sa7xi0Xcu7LdJY9SEfp0HlQxgyvrLW2txMv8AdK11BFXRc6CTv+FY2jQotqBlM6Eki9jaPabX1vcL2uYvSihPGcWJ0z2/8K1XTteRRAYMpN7cwhcojCWwkak9GOnbp86neE8hY6+uZMK+U7M5W2PeA5BI91WVyxy9bTF4i/cAe4cTeZSRogNxyMoP1o+t8vOxl2ozqvAJOngz/m4/Pmiof/UDiFlCBhswM5ir22MERqMwJjeB2ocxts2ibZtm0w0ZTbCN/eBEkV07ULzJy5h8daNu8nQ5XGjoT1Q/u2PUVBW3EKnYAA5qZIPn83fCqB/1SxpEjCXyDqD6toPY7V6nDcVYZRcs3kBkKpRgWPtQojU9a6NtWslpUmcqgTtMACaCOLXZ4lw8f19z/CuVG13SqqYBhbcn28lWFizidQbF4Sc4Pq30fvt12Na8Izs4REZrhJhApLT1BA10rpSh/ljlu3hPWuAGu3rjvcfr42LBB2VQQI6mT1qziCRBCyzZzabg5hjju+h3qmuJcs8RVC5wl3LHQBj+qpLfdV08r4nNhrH6G3+ytOeYcX6qwxHtN4V97aT8BJ+FNeAoQoob6hfqmsPhmUJDUP8ApaxIt2MOxmBf6CfqP2qJ5O4qMRaZbixqVKmRKnUfCDHwNWnQNz7gBexOElmUKt0+EwTra0kaj4VbHxZYxFGfGL8lNcE4XZsg+rQAsSSYE6mcs7wNAB5VNIKZcLTwj3U/kDesudJut0aYaIAss6VKlWEwh7nO1fbC3PU5QQM5MsGAtkP4Mv1pXvXnKFrErZb6UG9YWzZmfPIIEAa+CI9nbr1NEVeE1jJ486Z7ye79hlGszv3ftz3cE0x1lmU5CFuQQrlQ2UnyO40GlUhzz9JF8riLme4ggMCI8QkZQAABr5VdHFwWtMou+qLQA43UkiI1GvT40G8T4Uq3Ll27kuOwUKTq0IgViRtOm4HXptQqzcxEfj0T2za7aDXudBkWt4pEaOjTWb7phOvQ+5OAJJM+vffU7LvRNzT/AEPE/oLv7DVD+je2q4VwgAHr30AgTCbVKc3mMFif+Xu/sNRmiGwubVcHVSRvP35WVH8F5eXFYmzZDsQ7j1knXIJZzI6kAifOuhLVsKAqgAAAADQADQAeVUp6HVVuIseow1xvjnsr+DGrwrNMQEbGVHPeATMD6qn/AEsc/PbunA4a56sqB6+4phpYSLSH6uhBJGuoEiDVWrcQyZ1mSZGp7nvXV3q17D5UvVr2HyqPZm3q8PihREZZ6/hcs4DjFzC3Bdw9w23HVTo3kw2ceRmugvR9zUvEcIL0BbitkuqNg4gys/VIII98dKJPVr2HyFeqoGwAq2syodeuKpnLHzyCFPSXhLjYM3rLFLlhluSI1tggXVMg6ZZb3oKkuA4nMoqS4lhxcs3LZ2e26n3MCD+ND3KwOUT2raBKHvS1x/F4W5hlw15rYdbpcAIc2U2gPbU/aO3egLH3r2KdLl9jcYADMQoIAJMQoA3J+dGPpqP5bCf2b/42qD7V0AUlXcZhel2Rh2Oph5Am9+pCkeSXW1xPDkwFzMo8mdHVfmSB8aveuaMZd1BDQQZBGkEagg9CDVucg8/WsaotXWCYldCDoLv51vzPVdxrEii0H2gpPa+GLXh7dN6AfStyhjvpd3F5GxFhoIK+M2VAAyFdwo1MiR1MGo3lb0lYzC2ntg/SFykWxcJY2m6Gd2T80+UEV0XQfzT6PsJjMzhfU3j/AL22AJP9Yuz+/Q+dFc06hIUq7IDKgsqRtJdxDM98lrjtmZ2MknvptGgA2A0qfsWAsZuvWscRwbEYS96m6ozASra5XXoyH+O1ObaMSSx1AGnug9P51pZlB9V0Lu1dp4fB4fOCNNZAsD9b7r8kuI8OuZTAUiATrBA6MdifhUXgbGIs3BiLJZWRvaCTJ6zG4IMEedEWAec2dREZZ+yDIjXUNqflUDzHzAgUWrS5hoATsSNCffJn406zZ0Q/P4Y3XvNo3ftpdedxH9WFwdhxQJqAgEOBaA0tlxdeZBsJjMDMQFb/ACdzdaxq5D4L6+1bPUfbTuvluux6ElBrl6xw6/69byOyshDKyNJU91I8unY1dXJXOnr8tjEwt/ZWGi3fd9l/LY9OwK6k4DNFlzaONpOd2eYTy0P0+gngEP8APvo8Gf6XgxDKczWQPCSDOe2Oh7rsemuhx5F51x2JxtqzeuK1tg8gIqnwqxGoEjUCrSxa+E1W2D4ULXG7F1AAlwXg47Pkc5h/a1nzB71gOEQeiI+k7OHNO+44q0arS/zJjjxTFYdLiixZKADIpMuiNqSJ+191WXVccPsj/SfED3xFsfKxY/iayjkSinhGEOrHdiSfeTJ++gXnjnnEG42HwZyIhKveGrMw3VOiqNs25O0DewuLYj1OEv3V3S1cYe9VJFUPhmBAh4011iffR6FMPuVzto4p1FoDd6wucSxcF/pGJBUat6+5JnTTXfXejTkX0jXPWph8U2dHIVLpEMjHRVuRoykwM24O8jYWxADtcgjKcpPQSf8AMGo3GYawqeGffO56+6malAFcvDY97SJk8tdQDddJ4jaq74uP/dOHfp7n+Fdo04Lizewdi6d7li0597qrH8aDuKn/ANz4f+nuf4VyueF6UmysagD0mcwXbXq8NYco9xSzuphgkwoU/VkhtRr4fOj+qg57bNxJ5Ps27SgdtC3/AFUSgwPeAUpj6xo0HPHJC+L5lxdlPV/SLpymVDxcgnsXkxFXnwAFrFl21ZrSMTtJZQSdPOqL49hmILHJH3wP39avjgH9Fw/6G3+ytExFMMKW2XijXYZOkIc9JfHr2Ds2XssVLXsrQqt4crt9YGNqx4Wl3EFLl45mVSBIUEBspI8On1R8qXpOeLVg/wBd/wBD1s5d4oiqMxAHcmKG2mS2QEzVxLGVcjzwUlzBev2cO1yxlLW9WVhIZfrRtqN/gRVe/wCtmJuYm1dxAy27dxSFQGCDOZ9SZ0nc+XerH47w1sVa9Ut31akgtCySBrl3GhMfLzoTt8kmzirJBN2yztnJEEDIZDxvJRIPnHaS0TTg59bpTHDEOeDR/T4d9pzWMC8Df04I54bxK1fXPacMOsbg9mG4NPa04ewltQqKqqNgoAA9wFbqWMTZdVuaPFqvDUfhOI27puKjeK25Rx1Ugx8j0P8AnWrj2JxFu3mw9oXH7Fogd4+v7gRVL4niF8XbjE3FdmYuB4D4j4gdds3Q0tWr5CAF2dnbM72xxLo0jQ+oBkDzhXZikVhDAEAgwQDqNQdeoMGhbmSyILfW1ysfFlkAHLOw0GgqY4FZtphrQtmV9WDPVi2rM35xYmaheZ7nhNbNxdBYC1xaJsSOHtu5jopH0bmcK/6d/wAFqQ50/oGLPbDXv2GqM9GBnCP+nf8ABKION4D6Rh71jNl9bae3micudSsx1iaINEi8Q8+aon0P8UROJICf9rbe38TDj5m3HxroWqSv+iU4Z1vWsY+e2yuh9UohlIIPtdxVucF4kt+2GGjDR1+y3Ue7qPKssECETEVBUdmCpLn7mTiuBx96z9LurbLZ7WiR6t9QB4dcplf7tRmE574kxg4y78l/7avDm3lPDcRtC3iFMrOS4sB7ZO+U9jpIMgwOwqtsR6GL6uDZxNoqJ9tGU9d8paT8qy9rtyZwtaiI7QD0n7IbbnPigP8ATbvyT/trS/PvEpj6ZcnqIX/tqwuD+iJQwbFYg3APqW1KA+TMSTHuAPnRlxLk/BXrS2nw6ZUXKhUZGQdkZYI93XrWGsfqSjVcThQYY2Rxgff8KkrXOfEy6g4y5BdQdE1BIB+rV88MwgQVSXOXLlnAYq1atXzcl0YowGdBmXLnZdDOsaDb3Vfdjat0puCl8b2ZyupiAQd0KpvTkxF7BAb5b/42aAcG/rAwnUbAfL5TR16eUJvYKDByX/xs0CYLhx3kjvr8daXr/qK7GycxpARIumWIDglSoJI33jzEVi2AGhlgD8sygEgHuJBjpI70WcvctXMffFtTlVdXffIk/VndjsB8TVx3eVsK2GGENoepUaD6wb/iBtw8knNuZNXTplwlYxuKp0X5HeI/QfNyqXln0iY3CQl0/SLQ6Ofyij81+vuafeKuTgHGrOMsLfsNKNO+hUjQqw6EH+YquuIeiK5m/IYpcnQXEJYe8qQG+S0c8l8tpw7DCwrlzmLu5EZnaASB9UQAANdqYYHCxXGxL6LjLBCj/Sbgw2DN6JeyysO+ViFce6DMd1FV1/pe1aXOxUsV2OogjZqsL0q8RFrAOk+O8yW0HU6hmj3IrfdVGWeCXbjwzFh7op/DEiYErzu1WtflD35QL2mfx9fJPuL8Td7JNuAjHwxOh6tpp3GsRFEfJno8xF9Va6DYtamX1d53KLpE9zHSAabcvrbwOJs3HQOAdQVzQDuyzsw1IjqOk1fFi8rqroQysAVI1BB1BFVWmlDQIt6cleEyYvNUe4uJMmSZPAkzJsI6Kk7mEbC3WsXBDKfgw6MvkRTfimQCQYI1BGhBHUedW9zHy1YxqgXAVZfZuJAdfLUEEeRFC2G9Fdn1ge9ibt1R9QAICOxIkx7oNE73LYKXOxyyqXM05lEvK+PfEYCzdue21vU/aIJXN8Yn41FYVZ4hZ8vWEfqOP30VeoW3bCIoVVUKqgQFUCAABsAKB1xwHF8LZB8RF12HZRbcCfef2TSS7wsLqw6rThmJni3EbfVbtpvg1q2PxX76suqN4rjzhOYMRfM+rZkW5v7Bt2vEB1IIB+BHWraCbBYqVGsALlcuKwovWHtNtctsh9zgqfxrlTG4fE4e5ctXVIe05Rt916j807g9QRXWGFcMispBBAII1BB1BHcUMc58iYfiMOxNq8BAuKAZA2FxT7YHvBHerY6FmtTziy59xeIKqoS4zSJYREPr2PYxHv703wVjEYq4tm0Czuyqo82MfISST0AJq0x6HMROX6RZyHc5Xn5f50ccm8h4bh3jWbl4iDcYAQDuEH1QfeT50V9QbilKOHcD4h1t9vREOEwgs2LdpfZt21Qe5AFH4UBcY/8AlOHf8xc/wbtWNf2quuM//KcN/wCYuf4N2l10YVk1R/pKuleJXcpg5bf7Iq8Ko30jg/6VuafVtfsijUP1pHaIHYGULcRxpe2Q7bCdNu2sdf4V0Vy//RcP+gtfsrXO3G+GeHOpA6EE/h/CuiuA/wBGsfobf7IomJmRKX2SWFhyfwhP0sz6mxH/ABtf1Hoe4cgdMrDMp3B2qc9MVzLYw5/r/wDoeh3lziVpiqZlzHYDWflrTGDIDDK5W3GONcEcAj3hXEYgHT8KIbVwMKDuGWbuZ8+XLPgiZj87+evwBDhZFBxDGzIT2zcRVDcr7hO8Xi7doA3HCgtALGBOpAnYbHetmHvK6hlYMp2IMg+49ag+aOB/TLYUXGRlYEa+HcZsy9TlmP8AzUrw3BCzaW0GZgogE5ZjoPCANPdSxAA1uuu1zzUIjwxrN54QntDuD5XsJcvXXRbjXXYw6hgqsZygHz1JoipUItB1TTK1SmCGGJ19ZUV9BW0mW2iogkhVAAE6mANBQdzOTB0qxSKjOKcKW6DpWXMtZMUMQGul90PejS8iYRgzKD659yB0XvRb9Ntf8RP1h/Gqu45ycGZvCdDGq76A6dxr85oNHL6sWCCcpg+Hb5ih9qW2ITg2e2uS9j/bSeqvrF3bTD/aJ+sv8aGcQps3PW2big9RIKsOzCdaqluW/wA37hWH+r35g+VTvHJb/wCGP+/t+VbGB9JmCNxrV8mxcVissC1tiOquogD+1FEmH4/hLglMTYYeV1D++qFHAPza13uCH7E/AVnvJ4Ip2IDo9XtjebMDZE3MXYHl6xWPwCkk/Kgbmb0rLlKYJGYnT1zrCrPVUOpP9oAeR2qucPwkTJHwrfZsZXPY/wAisuxM2CLR2GGkF5lNLLPcvK7kszXQzMxkk5hJJrpRcZaH+8T9Zf41z7esL2pqMCjHaPgPlWKVeEfHbJNWCDpuiZ+iPfTE6PdwpVg0Le2IMSbfag9LoAGo86ywvClkqCBHYj8Kd4bgoYkEER99M92fWdIC5f8Ay+G2dSDHOBtO7fJ4+yjrXG7mFuresNldfiGGkow6qdJHu2MGrQ5a9J+ExAC3z9HuxqG1tnzV9h7mj470Ff6vyYOXJPT2o79p2rTjOD2LUFlOu0LO0dtt66FPAPAvZeUxv9S4epU8ALjy+DyV0W+N4VhmGIskdxcQj8ai+Kc7YKyDF0XW6Ja8ZJ7SPCvxIqsV4Db3yis8NhkDspXKF2J2O9GGBvcrmP8A6iBByNvzP2WnmC9iOI3xeuAKqgi3bB0RTvE+0x0k6TA7RUvhMGttdAPlWh+IWLYPjAqJuc1Ip9WpLuXgTpr28qdY2nSsuHXqYnGmYJ6R8hSHF7bGISZIE6aT94HnXvAOdnwDG26+ssSfCDqh3Y2ydCJ3UwPdrI+3Grt43AWyZCQBoZPl4hn93mKZ8P4S752cOSxMDSBMj2e8E0GtFWwCfwOfCeJzgI4b5v8AP4KvDg/PnDcSoa3iranbLcPqmB7Q8T8JFS13jeFUS2IsgedxP41RlvlkhdE1kQukR300NTGD5YkDwbjXT7qV7kd5XUO3mf4NnqjDmP0hWLaOuGBv3BporBAe5MS/fw79xQb6Pld+J28TeaXcOSxgbowEdhEACpLG8Pt4VUNxT4jEKBIHfXpMDfrW/mzgjWbCsqjLche7AsJGWDHQjTyia12NNoidbIffsTUdnLYa2CRy577qzvpSfbX9YVUfNfDTdx+IYagsmu/1EFSfKHLfr7Iu3UQSYGXc5dGJnbUUQWOWGTEJcVptQFa3oI9rXpMSNNd/IQFhbTeZT+IZUxdFsCASDrNvRDfLXHr+C/JOjXLHQdUnfJO4/NMeXmfYDmLC3gMl5J+yxyN+q0Gmt3gVkpNwhoYsGOVQNTA000BifKoC3wbC4kTZZX1MiRIAJXMRvBjTvNZeWPMifst0BXogMcQeAJv89UaX+I2UEvdtqO7OoH3mgjmv0hqiFMGPWXCCPWEH1aeYn2z93mdq8fkhRso+VNrvK+X6tbp0mE3KDi8ZiGCzI9/2RTh+acJ6pA+ITNkXNPeBM6d6FeIcQw9ziGBuLeUrbvOWOYAKDbuLJJ0GpqOv8AjpTDGcMCKSRtt5noKMMGNZSDtvOBgsHqrabj2EG+Jsf/bb/jVQ8+4hLnELly2yuhW3DKwZTCiYI0pthOCLidcpVVOoMat8Og/fU7h+VE6k+4QP3VKeHyOmVeJ2n29Ps8vndA9wl3BbWAYHQTptV98G4hYTD2VN62Ctq2ILqCIUb61WvFeUgAGsg5xMrM5x1ieo/fQvjuHTdtkLq4y/3hAg+ev3VKlLOJlVhMZ3d0RqLdL/ALqzfSbbt4mzZVXVovScrA6ZHHT3035d4WltYRQs9QNT7+/xpcP4AE2FYjmC3ZxD22INpVElYJVuo03mQI6EVKbcogXV4qr2rw99hYKd4Fw97SkPcNyWJBPQaAKPKBPvJqdtLUZwTHDEJ6xUZVkgZoBMbmATFTFtaBUJm6ewtNuUFui2IK2isVFZ0uV1GiEqVKlVLaYcT4lasKGutlBbKDBOsExoOwNZcOwotJkDO4E6u2ZtSTv2108qyxuCtXQBcRXAIIzAGCCCI+IFOVUDQVUGZPziiZm5A0TM34W0jfa8qCwQxRxF0XVT1Efk9dTJPYa7azECN9TXmJ4GC4yW7QRsxuGCHJMlYga6kkz3ogppi0uMFyOFh1LSuaVHtKOxPfpWcgjiiCu7NLYbaN8WESQJvv8ANQN/lrsKaPy2fs1O8Xt4kvaNh0VQ/wCVDCZXQaDSdCTuNhUiC2aI8MbzrPaI++s5Gk6JjvlZrQcwMzbeLxfz3ckFnl49q1XOXrmZcoXLJzyDMRpl+NH9Mji/yotZH1QvnjwCCBln7WsxVGk0LTdo1jMDQKo+cuGHDOhiFuKY/tLGb7ip+da+W+Bti7uUA5Rq57Dt7zsPielWF6Q+DticLFsEulxWUDcgnKw/VYn+6KccrcuLhBmktcZFD9gdScnlsP7tLnDzU5LrM2zlwUk/3NBv4X5WOvEIV5m5ct2LWfw66AERJ7AgRPkYmDQxZ4Ml1M1t1BHQsJ6ax9kg9qt7mLhpxNlrMqMxWSRmgAgmB1Okb9ageDcliwL6SGzqBbuah0JBnUezrl23+6nAT2jQWgt6/b+DvC4TyHYSq5tZzapsBMiOQcCBM3IOYZZbF5rl+FXQwkLlG2XNMaxqDttpUWLWKCXCLzZpGUdANN95/wAvOri4Vybbt2jbdy5LGCZiD0ykkLrOgqL4xwG1g7WfUoDGi5jJGnziuiOxc7wuLdPK3DzXknOx1Gj/AHaNOoBmMkeIZhBLjm/x1GoBJ1Vc4+9fW3mtkgzmIPjzMSRqQdIA8+g6UwwWKxNwn1jAZVMSCTPf3L2qyMBy0HQXbSghwPPXSQfzht8KisqG/wCoCAmYzAiJiSD1ncedMMZcnPN/Tl/K5tfEw1obhg3wgT/sd7rk68ByOqCrT4prhXOQgPXdlH2I01/f1rXbsX/WDOz3FjWNN+x1mJ8tasm5wXKCSggCTp21rDh+DW6ue2JEkbRt3B1HxrfZD/ZL9+qDSlu4e/FV0OEN63OwJUk+E+PT4jT91TD8tC42YqB8BJ8yRvR0vL5YiUGkRp2qTw3LjncVUUm/qK32mNrEdmwg6IEw/CEtsqhC2bqI033miKxggCi7FzCiDqYmNNqMMNwJEEt0EmNdqjeXuZbd7ENh8ioVzFSSQzCYUZSJUxJOv1Tp2GcWAD2YmEwzY73ub3p0E6DWTr0+id8P5djVqmEwKIpgQYOsTHnHWntKufUrPfqV6XDYChhxDGoJ5buYu9euDFoCoyMAylMkZgpRdQSdZk6ae6inFvatrncALb1Byzk6SIGmhOo6TTyK04iwlxSjqGU7giQeuorLnBxmI8kanSNNkTmN7n8bgoVka/6i9hbwS1mJcBY9YCRIPYmI2BEn3VL4lrgy+rVT4hmkkQvUiBqfKvcHg0sotu2oVVAAA/E9z505qieC01hAubnXz5ToPLzTN8FbNtrWRQrBpWBHikkxsdTNRvBOCWcCjlbjZWyli5Gh11mBA12O1T1aMRh1uKUcSrCCO47GoHHSVHU2yHQJExyn7LzDX0uIHQhlYSCOoNNMThLrXkYXALQVg6QJYnYz0iB99OcDg0sotu2oVFEAD+dT506qpg2V5czQHcvX9kM8TvYdbyWC35S57KgE76ax7PxjY1E2uHXWVxdQIZIABmV6Hy+dGF/A23ZXdAzLOUkDSYOk+YFb7tkNTDMQWrmV9lsqkmw4fnrwQhgeDpb9hAveBv7+9b+E37d9S1syFZlPvXr7iII8jTrmjhAu4d1CFnAlMu4bpH750oe5V5TaziPWX7euUMpBkZ9AQ0bwNtI3InobtQ5pMpMYJ1OoG5ZB38PO3yykeJcuG9et3BcKhPqy0HUSBBGWRod+mlZcV5VW7dtXVgFLyXGHRsp1Pvj50VJbrYEoBrOCfGz6btRvB6hROL4Yl1DbcHK28Er+H4VW17lS8uMuYezJUICpkKEUgGWIG+YZRprB00MW+VrAWhMxqd/ONqptYt0Wq2z2VYB/McJUFyphL1rDravIFa2SAZUhhuD4eupGsbVPqtZgV7Q3Okym6VIMaBw4rwCvaVKsIyVKlSqKJVG2MLcF53a6WtsoC24ACEdZ3Mye3xgRJUqoiVoOIkDfb3B6abkqVKlVrKVKlSqKJUqVKoolSpUqiiVKlSqKJU0xuCt3Vy3UV13hgCAe4nY6nWndKoqIBEFarFsIoUbKAB7hoKbvw+0bpulFLlVEkA6KSRHY67+Q7U9pVFCARCwZAdCB8q12cOiDKqgDXQAAamT95rfSqK4Xle0qVRRKm1nCohZlUAu2Zj1JgCT8AKc0qikJUqVKoolSpUqiiVKlSqKJUqVKoolSpUqiiVKlSqKJVjlrKlUUheAV7SpVFEqVKlUUSpUqVRRKlSpVFF//2Q==\" alt=\"Stary numpy\" width=\"550\" height=\"230\">"
   ]
  },
  {
   "cell_type": "code",
   "execution_count": 1,
   "metadata": {},
   "outputs": [],
   "source": [
    "import numpy as np"
   ]
  },
  {
   "cell_type": "markdown",
   "metadata": {},
   "source": [
    "__Note - If you provide the sort d type then you have to give data value according to data type otherwise you will get the value in minus__"
   ]
  },
  {
   "cell_type": "code",
   "execution_count": 2,
   "metadata": {},
   "outputs": [],
   "source": [
    "myarr = np.array([[3,3,43,5,4]],np.int64)"
   ]
  },
  {
   "cell_type": "code",
   "execution_count": 3,
   "metadata": {},
   "outputs": [
    {
     "data": {
      "text/plain": [
       "array([[ 3,  3, 43,  5,  4]], dtype=int64)"
      ]
     },
     "execution_count": 3,
     "metadata": {},
     "output_type": "execute_result"
    }
   ],
   "source": [
    "myarr"
   ]
  },
  {
   "cell_type": "code",
   "execution_count": 4,
   "metadata": {},
   "outputs": [
    {
     "data": {
      "text/plain": [
       "3"
      ]
     },
     "execution_count": 4,
     "metadata": {},
     "output_type": "execute_result"
    }
   ],
   "source": [
    "myarr[0,1]"
   ]
  },
  {
   "cell_type": "code",
   "execution_count": 5,
   "metadata": {},
   "outputs": [
    {
     "data": {
      "text/plain": [
       "5"
      ]
     },
     "execution_count": 5,
     "metadata": {},
     "output_type": "execute_result"
    }
   ],
   "source": [
    "myarr[0,3]"
   ]
  },
  {
   "cell_type": "markdown",
   "metadata": {},
   "source": [
    "# Information about the array:"
   ]
  },
  {
   "cell_type": "code",
   "execution_count": 6,
   "metadata": {},
   "outputs": [
    {
     "data": {
      "text/plain": [
       "(1, 5)"
      ]
     },
     "execution_count": 6,
     "metadata": {},
     "output_type": "execute_result"
    }
   ],
   "source": [
    "myarr.shape"
   ]
  },
  {
   "cell_type": "markdown",
   "metadata": {},
   "source": [
    "__There are some common difference between attributes and methods. Attributes provide the information about the data and methods takes the decision about the data.Attributes does not have paranthisis and methods have paranthisis.__"
   ]
  },
  {
   "cell_type": "code",
   "execution_count": 7,
   "metadata": {},
   "outputs": [
    {
     "data": {
      "text/plain": [
       "dtype('int64')"
      ]
     },
     "execution_count": 7,
     "metadata": {},
     "output_type": "execute_result"
    }
   ],
   "source": [
    "myarr.dtype"
   ]
  },
  {
   "cell_type": "code",
   "execution_count": 8,
   "metadata": {},
   "outputs": [
    {
     "data": {
      "text/plain": [
       "5"
      ]
     },
     "execution_count": 8,
     "metadata": {},
     "output_type": "execute_result"
    }
   ],
   "source": [
    "myarr.size"
   ]
  },
  {
   "cell_type": "code",
   "execution_count": 9,
   "metadata": {},
   "outputs": [],
   "source": [
    "myarr[0,1] = 45"
   ]
  },
  {
   "cell_type": "code",
   "execution_count": 10,
   "metadata": {},
   "outputs": [
    {
     "data": {
      "text/plain": [
       "array([[ 3, 45, 43,  5,  4]], dtype=int64)"
      ]
     },
     "execution_count": 10,
     "metadata": {},
     "output_type": "execute_result"
    }
   ],
   "source": [
    "myarr"
   ]
  },
  {
   "cell_type": "markdown",
   "metadata": {},
   "source": [
    "# Numpy array creation methods -"
   ]
  },
  {
   "cell_type": "markdown",
   "metadata": {},
   "source": [
    "__There are 6 general mechanisms for creating arrays:__\n",
    "\n",
    "__1.Conversion from other Python structures (i.e. lists and tuples)\n",
    "2.Intrinsic NumPy array creation functions (e.g. arange, ones, zeros, etc.)\n",
    "3.Replicating, joining, or mutating existing arrays\n",
    "4.Reading arrays from disk, either from standard or custom formats\n",
    "5.Creating arrays from raw bytes through the use of strings or buffers\n",
    "6.Use of special library functions (e.g., random)__"
   ]
  },
  {
   "cell_type": "code",
   "execution_count": 11,
   "metadata": {},
   "outputs": [],
   "source": [
    "listarray = np.array([[[1,2,3],[4,5,6],[8,9,10]]])"
   ]
  },
  {
   "cell_type": "code",
   "execution_count": 12,
   "metadata": {},
   "outputs": [
    {
     "data": {
      "text/plain": [
       "array([[[ 1,  2,  3],\n",
       "        [ 4,  5,  6],\n",
       "        [ 8,  9, 10]]])"
      ]
     },
     "execution_count": 12,
     "metadata": {},
     "output_type": "execute_result"
    }
   ],
   "source": [
    "listarray"
   ]
  },
  {
   "cell_type": "code",
   "execution_count": 13,
   "metadata": {},
   "outputs": [
    {
     "data": {
      "text/plain": [
       "dtype('int32')"
      ]
     },
     "execution_count": 13,
     "metadata": {},
     "output_type": "execute_result"
    }
   ],
   "source": [
    "listarray.dtype"
   ]
  },
  {
   "cell_type": "code",
   "execution_count": 14,
   "metadata": {},
   "outputs": [
    {
     "data": {
      "text/plain": [
       "(1, 3, 3)"
      ]
     },
     "execution_count": 14,
     "metadata": {},
     "output_type": "execute_result"
    }
   ],
   "source": [
    "listarray.shape"
   ]
  },
  {
   "cell_type": "code",
   "execution_count": 15,
   "metadata": {},
   "outputs": [
    {
     "data": {
      "text/plain": [
       "9"
      ]
     },
     "execution_count": 15,
     "metadata": {},
     "output_type": "execute_result"
    }
   ],
   "source": [
    "listarray.size"
   ]
  },
  {
   "cell_type": "code",
   "execution_count": 16,
   "metadata": {},
   "outputs": [
    {
     "data": {
      "text/plain": [
       "36"
      ]
     },
     "execution_count": 16,
     "metadata": {},
     "output_type": "execute_result"
    }
   ],
   "source": [
    "listarray.nbytes"
   ]
  },
  {
   "cell_type": "code",
   "execution_count": 17,
   "metadata": {},
   "outputs": [
    {
     "data": {
      "text/plain": [
       "4"
      ]
     },
     "execution_count": 17,
     "metadata": {},
     "output_type": "execute_result"
    }
   ],
   "source": [
    "listarray.itemsize"
   ]
  },
  {
   "cell_type": "code",
   "execution_count": 18,
   "metadata": {},
   "outputs": [
    {
     "data": {
      "text/plain": [
       "(36, 12, 4)"
      ]
     },
     "execution_count": 18,
     "metadata": {},
     "output_type": "execute_result"
    }
   ],
   "source": [
    "listarray.strides"
   ]
  },
  {
   "cell_type": "code",
   "execution_count": 19,
   "metadata": {},
   "outputs": [
    {
     "data": {
      "text/plain": [
       "3"
      ]
     },
     "execution_count": 19,
     "metadata": {},
     "output_type": "execute_result"
    }
   ],
   "source": [
    "listarray.ndim"
   ]
  },
  {
   "cell_type": "code",
   "execution_count": 20,
   "metadata": {},
   "outputs": [
    {
     "data": {
      "text/plain": [
       "array([[[ 1,  2,  3],\n",
       "        [ 4,  5,  6],\n",
       "        [ 8,  9, 10]]])"
      ]
     },
     "execution_count": 20,
     "metadata": {},
     "output_type": "execute_result"
    }
   ],
   "source": [
    "listarray.real"
   ]
  },
  {
   "cell_type": "code",
   "execution_count": 21,
   "metadata": {},
   "outputs": [
    {
     "data": {
      "text/plain": [
       "array([[[0, 0, 0],\n",
       "        [0, 0, 0],\n",
       "        [0, 0, 0]]])"
      ]
     },
     "execution_count": 21,
     "metadata": {},
     "output_type": "execute_result"
    }
   ],
   "source": [
    "listarray.imag"
   ]
  },
  {
   "cell_type": "markdown",
   "metadata": {},
   "source": [
    "__Here the mean of 000 is listarray is not complex numbers all the numbers is real numbers__"
   ]
  },
  {
   "cell_type": "code",
   "execution_count": 22,
   "metadata": {},
   "outputs": [
    {
     "data": {
      "text/plain": [
       "  C_CONTIGUOUS : True\n",
       "  F_CONTIGUOUS : False\n",
       "  OWNDATA : True\n",
       "  WRITEABLE : True\n",
       "  ALIGNED : True\n",
       "  WRITEBACKIFCOPY : False"
      ]
     },
     "execution_count": 22,
     "metadata": {},
     "output_type": "execute_result"
    }
   ],
   "source": [
    "listarray.flags"
   ]
  },
  {
   "cell_type": "markdown",
   "metadata": {},
   "source": [
    "# Intrinsic numpy array - "
   ]
  },
  {
   "cell_type": "markdown",
   "metadata": {},
   "source": [
    "# zeros-"
   ]
  },
  {
   "cell_type": "code",
   "execution_count": 23,
   "metadata": {},
   "outputs": [],
   "source": [
    "zeros = np.zeros((2,5))"
   ]
  },
  {
   "cell_type": "code",
   "execution_count": 24,
   "metadata": {},
   "outputs": [
    {
     "data": {
      "text/plain": [
       "array([[0., 0., 0., 0., 0.],\n",
       "       [0., 0., 0., 0., 0.]])"
      ]
     },
     "execution_count": 24,
     "metadata": {},
     "output_type": "execute_result"
    }
   ],
   "source": [
    "zeros"
   ]
  },
  {
   "cell_type": "code",
   "execution_count": 25,
   "metadata": {},
   "outputs": [
    {
     "data": {
      "text/plain": [
       "dtype('float64')"
      ]
     },
     "execution_count": 25,
     "metadata": {},
     "output_type": "execute_result"
    }
   ],
   "source": [
    "zeros.dtype"
   ]
  },
  {
   "cell_type": "code",
   "execution_count": 26,
   "metadata": {},
   "outputs": [
    {
     "data": {
      "text/plain": [
       "80"
      ]
     },
     "execution_count": 26,
     "metadata": {},
     "output_type": "execute_result"
    }
   ],
   "source": [
    "zeros.nbytes"
   ]
  },
  {
   "cell_type": "code",
   "execution_count": 27,
   "metadata": {},
   "outputs": [
    {
     "data": {
      "text/plain": [
       "8"
      ]
     },
     "execution_count": 27,
     "metadata": {},
     "output_type": "execute_result"
    }
   ],
   "source": [
    "zeros.itemsize"
   ]
  },
  {
   "cell_type": "code",
   "execution_count": 28,
   "metadata": {},
   "outputs": [
    {
     "data": {
      "text/plain": [
       "(2, 5)"
      ]
     },
     "execution_count": 28,
     "metadata": {},
     "output_type": "execute_result"
    }
   ],
   "source": [
    "zeros.shape"
   ]
  },
  {
   "cell_type": "code",
   "execution_count": 29,
   "metadata": {},
   "outputs": [
    {
     "data": {
      "text/plain": [
       "10"
      ]
     },
     "execution_count": 29,
     "metadata": {},
     "output_type": "execute_result"
    }
   ],
   "source": [
    "zeros.size"
   ]
  },
  {
   "cell_type": "markdown",
   "metadata": {},
   "source": [
    "# arange-"
   ]
  },
  {
   "cell_type": "code",
   "execution_count": 30,
   "metadata": {},
   "outputs": [],
   "source": [
    "rng = np.arange(34)"
   ]
  },
  {
   "cell_type": "code",
   "execution_count": 31,
   "metadata": {},
   "outputs": [
    {
     "data": {
      "text/plain": [
       "array([ 0,  1,  2,  3,  4,  5,  6,  7,  8,  9, 10, 11, 12, 13, 14, 15, 16,\n",
       "       17, 18, 19, 20, 21, 22, 23, 24, 25, 26, 27, 28, 29, 30, 31, 32, 33])"
      ]
     },
     "execution_count": 31,
     "metadata": {},
     "output_type": "execute_result"
    }
   ],
   "source": [
    "rng"
   ]
  },
  {
   "cell_type": "code",
   "execution_count": 32,
   "metadata": {},
   "outputs": [],
   "source": [
    "lspace = np.linspace(1,5,5)"
   ]
  },
  {
   "cell_type": "code",
   "execution_count": 33,
   "metadata": {},
   "outputs": [
    {
     "data": {
      "text/plain": [
       "array([1., 2., 3., 4., 5.])"
      ]
     },
     "execution_count": 33,
     "metadata": {},
     "output_type": "execute_result"
    }
   ],
   "source": [
    "lspace"
   ]
  },
  {
   "cell_type": "markdown",
   "metadata": {},
   "source": [
    "# Empty"
   ]
  },
  {
   "cell_type": "code",
   "execution_count": 34,
   "metadata": {},
   "outputs": [],
   "source": [
    "emp = np.empty((4,6))"
   ]
  },
  {
   "cell_type": "code",
   "execution_count": 35,
   "metadata": {},
   "outputs": [
    {
     "data": {
      "text/plain": [
       "array([[4.67296746e-307, 1.69121096e-306, 3.11522054e-307,\n",
       "        9.34583987e-307, 1.37961505e-306, 1.60219035e-306],\n",
       "       [8.01097889e-307, 1.78020169e-306, 7.56601165e-307,\n",
       "        1.02359984e-306, 1.33510679e-306, 2.22522597e-306],\n",
       "       [1.33511018e-306, 6.23057689e-307, 1.11260755e-306,\n",
       "        8.34453626e-308, 9.45699680e-308, 1.11261774e-306],\n",
       "       [1.29060871e-306, 8.34424766e-308, 8.34445138e-308,\n",
       "        7.56577398e-307, 9.34600284e-307, 1.11253693e-306]])"
      ]
     },
     "execution_count": 35,
     "metadata": {},
     "output_type": "execute_result"
    }
   ],
   "source": [
    "emp"
   ]
  },
  {
   "cell_type": "code",
   "execution_count": 36,
   "metadata": {},
   "outputs": [],
   "source": [
    "emp_like = np.empty_like(emp)"
   ]
  },
  {
   "cell_type": "code",
   "execution_count": 37,
   "metadata": {},
   "outputs": [
    {
     "data": {
      "text/plain": [
       "array([[4.67296746e-307, 1.69121096e-306, 3.11522054e-307,\n",
       "        9.34583987e-307, 1.37961505e-306, 1.60219035e-306],\n",
       "       [8.01097889e-307, 1.78020169e-306, 7.56601165e-307,\n",
       "        1.02359984e-306, 1.33510679e-306, 2.22522597e-306],\n",
       "       [1.33511018e-306, 6.23057689e-307, 1.11260755e-306,\n",
       "        8.34453626e-308, 9.45699680e-308, 1.11261774e-306],\n",
       "       [1.29060871e-306, 8.34424766e-308, 8.34445138e-308,\n",
       "        7.56577398e-307, 9.34600284e-307, 1.11253693e-306]])"
      ]
     },
     "execution_count": 37,
     "metadata": {},
     "output_type": "execute_result"
    }
   ],
   "source": [
    "emp_like"
   ]
  },
  {
   "cell_type": "code",
   "execution_count": 38,
   "metadata": {},
   "outputs": [],
   "source": [
    "ide = np.identity(45)"
   ]
  },
  {
   "cell_type": "code",
   "execution_count": 39,
   "metadata": {},
   "outputs": [
    {
     "data": {
      "text/plain": [
       "array([[1., 0., 0., ..., 0., 0., 0.],\n",
       "       [0., 1., 0., ..., 0., 0., 0.],\n",
       "       [0., 0., 1., ..., 0., 0., 0.],\n",
       "       ...,\n",
       "       [0., 0., 0., ..., 1., 0., 0.],\n",
       "       [0., 0., 0., ..., 0., 1., 0.],\n",
       "       [0., 0., 0., ..., 0., 0., 1.]])"
      ]
     },
     "execution_count": 39,
     "metadata": {},
     "output_type": "execute_result"
    }
   ],
   "source": [
    "ide"
   ]
  },
  {
   "cell_type": "code",
   "execution_count": 40,
   "metadata": {},
   "outputs": [
    {
     "data": {
      "text/plain": [
       "(45, 45)"
      ]
     },
     "execution_count": 40,
     "metadata": {},
     "output_type": "execute_result"
    }
   ],
   "source": [
    "ide.shape"
   ]
  },
  {
   "cell_type": "code",
   "execution_count": 41,
   "metadata": {},
   "outputs": [
    {
     "data": {
      "text/plain": [
       "2025"
      ]
     },
     "execution_count": 41,
     "metadata": {},
     "output_type": "execute_result"
    }
   ],
   "source": [
    "ide.size"
   ]
  },
  {
   "cell_type": "code",
   "execution_count": 42,
   "metadata": {},
   "outputs": [
    {
     "data": {
      "text/plain": [
       "8"
      ]
     },
     "execution_count": 42,
     "metadata": {},
     "output_type": "execute_result"
    }
   ],
   "source": [
    "ide.itemsize"
   ]
  },
  {
   "cell_type": "code",
   "execution_count": 43,
   "metadata": {},
   "outputs": [
    {
     "data": {
      "text/plain": [
       "16200"
      ]
     },
     "execution_count": 43,
     "metadata": {},
     "output_type": "execute_result"
    }
   ],
   "source": [
    "ide.nbytes"
   ]
  },
  {
   "cell_type": "code",
   "execution_count": 44,
   "metadata": {},
   "outputs": [],
   "source": [
    "rng = np.arange(99)"
   ]
  },
  {
   "cell_type": "code",
   "execution_count": 45,
   "metadata": {},
   "outputs": [
    {
     "data": {
      "text/plain": [
       "array([ 0,  1,  2,  3,  4,  5,  6,  7,  8,  9, 10, 11, 12, 13, 14, 15, 16,\n",
       "       17, 18, 19, 20, 21, 22, 23, 24, 25, 26, 27, 28, 29, 30, 31, 32, 33,\n",
       "       34, 35, 36, 37, 38, 39, 40, 41, 42, 43, 44, 45, 46, 47, 48, 49, 50,\n",
       "       51, 52, 53, 54, 55, 56, 57, 58, 59, 60, 61, 62, 63, 64, 65, 66, 67,\n",
       "       68, 69, 70, 71, 72, 73, 74, 75, 76, 77, 78, 79, 80, 81, 82, 83, 84,\n",
       "       85, 86, 87, 88, 89, 90, 91, 92, 93, 94, 95, 96, 97, 98])"
      ]
     },
     "execution_count": 45,
     "metadata": {},
     "output_type": "execute_result"
    }
   ],
   "source": [
    "rng"
   ]
  },
  {
   "cell_type": "code",
   "execution_count": 46,
   "metadata": {},
   "outputs": [],
   "source": [
    "rng = rng.reshape(3,33)"
   ]
  },
  {
   "cell_type": "code",
   "execution_count": 47,
   "metadata": {},
   "outputs": [
    {
     "data": {
      "text/plain": [
       "array([[ 0,  1,  2,  3,  4,  5,  6,  7,  8,  9, 10, 11, 12, 13, 14, 15,\n",
       "        16, 17, 18, 19, 20, 21, 22, 23, 24, 25, 26, 27, 28, 29, 30, 31,\n",
       "        32],\n",
       "       [33, 34, 35, 36, 37, 38, 39, 40, 41, 42, 43, 44, 45, 46, 47, 48,\n",
       "        49, 50, 51, 52, 53, 54, 55, 56, 57, 58, 59, 60, 61, 62, 63, 64,\n",
       "        65],\n",
       "       [66, 67, 68, 69, 70, 71, 72, 73, 74, 75, 76, 77, 78, 79, 80, 81,\n",
       "        82, 83, 84, 85, 86, 87, 88, 89, 90, 91, 92, 93, 94, 95, 96, 97,\n",
       "        98]])"
      ]
     },
     "execution_count": 47,
     "metadata": {},
     "output_type": "execute_result"
    }
   ],
   "source": [
    "rng"
   ]
  },
  {
   "cell_type": "code",
   "execution_count": 48,
   "metadata": {},
   "outputs": [
    {
     "data": {
      "text/plain": [
       "array([[ 0,  1,  2,  3,  4,  5,  6,  7,  8,  9, 10, 11, 12, 13, 14, 15,\n",
       "        16, 17, 18, 19, 20, 21, 22, 23, 24, 25, 26, 27, 28, 29, 30, 31,\n",
       "        32],\n",
       "       [33, 34, 35, 36, 37, 38, 39, 40, 41, 42, 43, 44, 45, 46, 47, 48,\n",
       "        49, 50, 51, 52, 53, 54, 55, 56, 57, 58, 59, 60, 61, 62, 63, 64,\n",
       "        65],\n",
       "       [66, 67, 68, 69, 70, 71, 72, 73, 74, 75, 76, 77, 78, 79, 80, 81,\n",
       "        82, 83, 84, 85, 86, 87, 88, 89, 90, 91, 92, 93, 94, 95, 96, 97,\n",
       "        98]])"
      ]
     },
     "execution_count": 48,
     "metadata": {},
     "output_type": "execute_result"
    }
   ],
   "source": [
    "rng"
   ]
  },
  {
   "cell_type": "code",
   "execution_count": 49,
   "metadata": {},
   "outputs": [],
   "source": [
    "rng = rng.ravel()"
   ]
  },
  {
   "cell_type": "code",
   "execution_count": 50,
   "metadata": {},
   "outputs": [
    {
     "data": {
      "text/plain": [
       "array([ 0,  1,  2,  3,  4,  5,  6,  7,  8,  9, 10, 11, 12, 13, 14, 15, 16,\n",
       "       17, 18, 19, 20, 21, 22, 23, 24, 25, 26, 27, 28, 29, 30, 31, 32, 33,\n",
       "       34, 35, 36, 37, 38, 39, 40, 41, 42, 43, 44, 45, 46, 47, 48, 49, 50,\n",
       "       51, 52, 53, 54, 55, 56, 57, 58, 59, 60, 61, 62, 63, 64, 65, 66, 67,\n",
       "       68, 69, 70, 71, 72, 73, 74, 75, 76, 77, 78, 79, 80, 81, 82, 83, 84,\n",
       "       85, 86, 87, 88, 89, 90, 91, 92, 93, 94, 95, 96, 97, 98])"
      ]
     },
     "execution_count": 50,
     "metadata": {},
     "output_type": "execute_result"
    }
   ],
   "source": [
    "rng"
   ]
  },
  {
   "cell_type": "markdown",
   "metadata": {},
   "source": [
    "# Numpy Axis - "
   ]
  },
  {
   "cell_type": "markdown",
   "metadata": {},
   "source": [
    "<img src=\"https://www.sharpsightlabs.com/wp-content/uploads/2018/12/1d-array-has-one-axis.png\" alt=\"Axis in numpy\" width=\"250\" height=\"230\"></a>\n",
    "<img src=\"https://www.sharpsightlabs.com/wp-content/uploads/2018/12/numpy-arrays-have-axes_updated_v2.png\" alt=\"Axis\" width=\"250\" height=\"230\"></a>\n",
    "<img src=\"https://cdn.educba.com/academy/wp-content/uploads/2020/02/c-multidimensional-arrays.jpg\" alt=\"Third dimensions\" width=\"506\" height=\"230\">"
   ]
  },
  {
   "cell_type": "code",
   "execution_count": 51,
   "metadata": {},
   "outputs": [],
   "source": [
    "x = [[1,2,3],[4,5,6],[7,8,9]]"
   ]
  },
  {
   "cell_type": "code",
   "execution_count": 52,
   "metadata": {},
   "outputs": [],
   "source": [
    "ar = np.array(x)"
   ]
  },
  {
   "cell_type": "code",
   "execution_count": 53,
   "metadata": {},
   "outputs": [
    {
     "data": {
      "text/plain": [
       "array([[1, 2, 3],\n",
       "       [4, 5, 6],\n",
       "       [7, 8, 9]])"
      ]
     },
     "execution_count": 53,
     "metadata": {},
     "output_type": "execute_result"
    }
   ],
   "source": [
    "ar"
   ]
  },
  {
   "cell_type": "code",
   "execution_count": 54,
   "metadata": {},
   "outputs": [
    {
     "data": {
      "text/plain": [
       "array([12, 15, 18])"
      ]
     },
     "execution_count": 54,
     "metadata": {},
     "output_type": "execute_result"
    }
   ],
   "source": [
    "ar.sum(axis=0)"
   ]
  },
  {
   "cell_type": "code",
   "execution_count": 55,
   "metadata": {},
   "outputs": [
    {
     "data": {
      "text/plain": [
       "array([ 6, 15, 24])"
      ]
     },
     "execution_count": 55,
     "metadata": {},
     "output_type": "execute_result"
    }
   ],
   "source": [
    "ar.sum(axis=1)"
   ]
  },
  {
   "cell_type": "markdown",
   "metadata": {},
   "source": [
    "# Transpose of the array:"
   ]
  },
  {
   "cell_type": "code",
   "execution_count": 56,
   "metadata": {},
   "outputs": [
    {
     "data": {
      "text/plain": [
       "array([[1, 2, 3],\n",
       "       [4, 5, 6],\n",
       "       [7, 8, 9]])"
      ]
     },
     "execution_count": 56,
     "metadata": {},
     "output_type": "execute_result"
    }
   ],
   "source": [
    "ar"
   ]
  },
  {
   "cell_type": "code",
   "execution_count": 57,
   "metadata": {},
   "outputs": [
    {
     "data": {
      "text/plain": [
       "array([[1, 4, 7],\n",
       "       [2, 5, 8],\n",
       "       [3, 6, 9]])"
      ]
     },
     "execution_count": 57,
     "metadata": {},
     "output_type": "execute_result"
    }
   ],
   "source": [
    "ar.T"
   ]
  },
  {
   "cell_type": "markdown",
   "metadata": {},
   "source": [
    "# flat -"
   ]
  },
  {
   "cell_type": "code",
   "execution_count": 58,
   "metadata": {},
   "outputs": [
    {
     "data": {
      "text/plain": [
       "<numpy.flatiter at 0x2107e41bb50>"
      ]
     },
     "execution_count": 58,
     "metadata": {},
     "output_type": "execute_result"
    }
   ],
   "source": [
    "ar.flat"
   ]
  },
  {
   "cell_type": "code",
   "execution_count": 59,
   "metadata": {},
   "outputs": [
    {
     "name": "stdout",
     "output_type": "stream",
     "text": [
      "1\n",
      "2\n",
      "3\n",
      "4\n",
      "5\n",
      "6\n",
      "7\n",
      "8\n",
      "9\n"
     ]
    }
   ],
   "source": [
    "for item in ar.flat:\n",
    "    print(item)"
   ]
  },
  {
   "cell_type": "code",
   "execution_count": 60,
   "metadata": {},
   "outputs": [
    {
     "data": {
      "text/plain": [
       "2"
      ]
     },
     "execution_count": 60,
     "metadata": {},
     "output_type": "execute_result"
    }
   ],
   "source": [
    "ar.ndim"
   ]
  },
  {
   "cell_type": "code",
   "execution_count": 61,
   "metadata": {},
   "outputs": [
    {
     "data": {
      "text/plain": [
       "4"
      ]
     },
     "execution_count": 61,
     "metadata": {},
     "output_type": "execute_result"
    }
   ],
   "source": [
    "ar.itemsize"
   ]
  },
  {
   "cell_type": "code",
   "execution_count": 62,
   "metadata": {},
   "outputs": [
    {
     "data": {
      "text/plain": [
       "9"
      ]
     },
     "execution_count": 62,
     "metadata": {},
     "output_type": "execute_result"
    }
   ],
   "source": [
    "ar.size"
   ]
  },
  {
   "cell_type": "code",
   "execution_count": 63,
   "metadata": {},
   "outputs": [
    {
     "data": {
      "text/plain": [
       "36"
      ]
     },
     "execution_count": 63,
     "metadata": {},
     "output_type": "execute_result"
    }
   ],
   "source": [
    "ar.nbytes"
   ]
  },
  {
   "cell_type": "markdown",
   "metadata": {},
   "source": [
    "# one domensional array -"
   ]
  },
  {
   "cell_type": "code",
   "execution_count": 64,
   "metadata": {},
   "outputs": [],
   "source": [
    "one = np.array([1,2,3,5,4],np.int32)"
   ]
  },
  {
   "cell_type": "code",
   "execution_count": 65,
   "metadata": {},
   "outputs": [
    {
     "data": {
      "text/plain": [
       "array([1, 2, 3, 5, 4])"
      ]
     },
     "execution_count": 65,
     "metadata": {},
     "output_type": "execute_result"
    }
   ],
   "source": [
    "one"
   ]
  },
  {
   "cell_type": "code",
   "execution_count": 66,
   "metadata": {},
   "outputs": [
    {
     "data": {
      "text/plain": [
       "3"
      ]
     },
     "execution_count": 66,
     "metadata": {},
     "output_type": "execute_result"
    }
   ],
   "source": [
    "one.argmax()"
   ]
  },
  {
   "cell_type": "code",
   "execution_count": 67,
   "metadata": {},
   "outputs": [
    {
     "data": {
      "text/plain": [
       "0"
      ]
     },
     "execution_count": 67,
     "metadata": {},
     "output_type": "execute_result"
    }
   ],
   "source": [
    "one.argmin()"
   ]
  },
  {
   "cell_type": "code",
   "execution_count": 68,
   "metadata": {},
   "outputs": [
    {
     "data": {
      "text/plain": [
       "array([0, 1, 2, 4, 3], dtype=int64)"
      ]
     },
     "execution_count": 68,
     "metadata": {},
     "output_type": "execute_result"
    }
   ],
   "source": [
    "one.argsort()"
   ]
  },
  {
   "cell_type": "code",
   "execution_count": 69,
   "metadata": {},
   "outputs": [
    {
     "data": {
      "text/plain": [
       "dtype('int32')"
      ]
     },
     "execution_count": 69,
     "metadata": {},
     "output_type": "execute_result"
    }
   ],
   "source": [
    "one.dtype"
   ]
  },
  {
   "cell_type": "code",
   "execution_count": 70,
   "metadata": {},
   "outputs": [
    {
     "data": {
      "text/plain": [
       "array([[1, 2, 3],\n",
       "       [4, 5, 6],\n",
       "       [7, 8, 9]])"
      ]
     },
     "execution_count": 70,
     "metadata": {},
     "output_type": "execute_result"
    }
   ],
   "source": [
    "ar"
   ]
  },
  {
   "cell_type": "code",
   "execution_count": 71,
   "metadata": {},
   "outputs": [
    {
     "data": {
      "text/plain": [
       "8"
      ]
     },
     "execution_count": 71,
     "metadata": {},
     "output_type": "execute_result"
    }
   ],
   "source": [
    "ar.argmax()"
   ]
  },
  {
   "cell_type": "code",
   "execution_count": 72,
   "metadata": {},
   "outputs": [
    {
     "data": {
      "text/plain": [
       "0"
      ]
     },
     "execution_count": 72,
     "metadata": {},
     "output_type": "execute_result"
    }
   ],
   "source": [
    "ar.argmin()"
   ]
  },
  {
   "cell_type": "code",
   "execution_count": 73,
   "metadata": {},
   "outputs": [
    {
     "data": {
      "text/plain": [
       "array([[0, 1, 2],\n",
       "       [0, 1, 2],\n",
       "       [0, 1, 2]], dtype=int64)"
      ]
     },
     "execution_count": 73,
     "metadata": {},
     "output_type": "execute_result"
    }
   ],
   "source": [
    "ar.argsort()"
   ]
  },
  {
   "cell_type": "code",
   "execution_count": 74,
   "metadata": {},
   "outputs": [
    {
     "data": {
      "text/plain": [
       "array([0, 0, 0], dtype=int64)"
      ]
     },
     "execution_count": 74,
     "metadata": {},
     "output_type": "execute_result"
    }
   ],
   "source": [
    "ar.argmin(axis=0)"
   ]
  },
  {
   "cell_type": "code",
   "execution_count": 75,
   "metadata": {},
   "outputs": [
    {
     "data": {
      "text/plain": [
       "array([2, 2, 2], dtype=int64)"
      ]
     },
     "execution_count": 75,
     "metadata": {},
     "output_type": "execute_result"
    }
   ],
   "source": [
    "ar.argmax(axis=1)"
   ]
  },
  {
   "cell_type": "code",
   "execution_count": 76,
   "metadata": {},
   "outputs": [
    {
     "data": {
      "text/plain": [
       "array([0, 0, 0], dtype=int64)"
      ]
     },
     "execution_count": 76,
     "metadata": {},
     "output_type": "execute_result"
    }
   ],
   "source": [
    "ar.argmin(axis=1)"
   ]
  },
  {
   "cell_type": "code",
   "execution_count": 77,
   "metadata": {},
   "outputs": [
    {
     "data": {
      "text/plain": [
       "array([1, 2, 3, 4, 5, 6, 7, 8, 9])"
      ]
     },
     "execution_count": 77,
     "metadata": {},
     "output_type": "execute_result"
    }
   ],
   "source": [
    "ar.ravel()"
   ]
  },
  {
   "cell_type": "code",
   "execution_count": 78,
   "metadata": {},
   "outputs": [
    {
     "data": {
      "text/plain": [
       "array([[1, 2, 3],\n",
       "       [4, 5, 6],\n",
       "       [7, 8, 9]])"
      ]
     },
     "execution_count": 78,
     "metadata": {},
     "output_type": "execute_result"
    }
   ],
   "source": [
    "\n",
    "ar.reshape(3,3)"
   ]
  },
  {
   "cell_type": "code",
   "execution_count": 79,
   "metadata": {},
   "outputs": [
    {
     "data": {
      "text/plain": [
       "array([[1, 2, 3],\n",
       "       [4, 5, 6],\n",
       "       [7, 8, 9]])"
      ]
     },
     "execution_count": 79,
     "metadata": {},
     "output_type": "execute_result"
    }
   ],
   "source": [
    "ar"
   ]
  },
  {
   "cell_type": "code",
   "execution_count": 80,
   "metadata": {},
   "outputs": [
    {
     "data": {
      "text/plain": [
       "array([[1],\n",
       "       [2],\n",
       "       [3],\n",
       "       [4],\n",
       "       [5],\n",
       "       [6],\n",
       "       [7],\n",
       "       [8],\n",
       "       [9]])"
      ]
     },
     "execution_count": 80,
     "metadata": {},
     "output_type": "execute_result"
    }
   ],
   "source": [
    "ar.reshape(9,1)"
   ]
  },
  {
   "cell_type": "markdown",
   "metadata": {},
   "source": [
    "# We can also apply arithmethic operation in two matices."
   ]
  },
  {
   "cell_type": "code",
   "execution_count": 81,
   "metadata": {},
   "outputs": [
    {
     "data": {
      "text/plain": [
       "array([[1, 2, 3],\n",
       "       [4, 5, 6],\n",
       "       [7, 8, 9]])"
      ]
     },
     "execution_count": 81,
     "metadata": {},
     "output_type": "execute_result"
    }
   ],
   "source": [
    "ar"
   ]
  },
  {
   "cell_type": "code",
   "execution_count": 82,
   "metadata": {},
   "outputs": [],
   "source": [
    "ar2 = np.array([[1,2,3],[4,5,6],[6,7,8]])"
   ]
  },
  {
   "cell_type": "code",
   "execution_count": 83,
   "metadata": {},
   "outputs": [
    {
     "data": {
      "text/plain": [
       "array([[ 2,  4,  6],\n",
       "       [ 8, 10, 12],\n",
       "       [13, 15, 17]])"
      ]
     },
     "execution_count": 83,
     "metadata": {},
     "output_type": "execute_result"
    }
   ],
   "source": [
    "ar + ar2"
   ]
  },
  {
   "cell_type": "code",
   "execution_count": 84,
   "metadata": {},
   "outputs": [
    {
     "data": {
      "text/plain": [
       "array([[ 1,  4,  9],\n",
       "       [16, 25, 36],\n",
       "       [42, 56, 72]])"
      ]
     },
     "execution_count": 84,
     "metadata": {},
     "output_type": "execute_result"
    }
   ],
   "source": [
    "ar * ar2"
   ]
  },
  {
   "cell_type": "code",
   "execution_count": 85,
   "metadata": {},
   "outputs": [
    {
     "data": {
      "text/plain": [
       "array([[1.        , 1.41421356, 1.73205081],\n",
       "       [2.        , 2.23606798, 2.44948974],\n",
       "       [2.64575131, 2.82842712, 3.        ]])"
      ]
     },
     "execution_count": 85,
     "metadata": {},
     "output_type": "execute_result"
    }
   ],
   "source": [
    "np.sqrt(ar)"
   ]
  },
  {
   "cell_type": "code",
   "execution_count": 86,
   "metadata": {},
   "outputs": [],
   "source": [
    "squere = ar ** 2"
   ]
  },
  {
   "cell_type": "code",
   "execution_count": 87,
   "metadata": {},
   "outputs": [
    {
     "data": {
      "text/plain": [
       "array([[ 1,  4,  9],\n",
       "       [16, 25, 36],\n",
       "       [49, 64, 81]])"
      ]
     },
     "execution_count": 87,
     "metadata": {},
     "output_type": "execute_result"
    }
   ],
   "source": [
    "squere"
   ]
  },
  {
   "cell_type": "code",
   "execution_count": 88,
   "metadata": {},
   "outputs": [
    {
     "data": {
      "text/plain": [
       "45"
      ]
     },
     "execution_count": 88,
     "metadata": {},
     "output_type": "execute_result"
    }
   ],
   "source": [
    "ar.sum()"
   ]
  },
  {
   "cell_type": "code",
   "execution_count": 89,
   "metadata": {},
   "outputs": [
    {
     "data": {
      "text/plain": [
       "9"
      ]
     },
     "execution_count": 89,
     "metadata": {},
     "output_type": "execute_result"
    }
   ],
   "source": [
    "ar.max()"
   ]
  },
  {
   "cell_type": "code",
   "execution_count": 90,
   "metadata": {},
   "outputs": [
    {
     "data": {
      "text/plain": [
       "1"
      ]
     },
     "execution_count": 90,
     "metadata": {},
     "output_type": "execute_result"
    }
   ],
   "source": [
    "ar.min()"
   ]
  },
  {
   "cell_type": "code",
   "execution_count": 91,
   "metadata": {},
   "outputs": [
    {
     "data": {
      "text/plain": [
       "array([[1, 2, 3],\n",
       "       [4, 5, 6],\n",
       "       [7, 8, 9]])"
      ]
     },
     "execution_count": 91,
     "metadata": {},
     "output_type": "execute_result"
    }
   ],
   "source": [
    "ar"
   ]
  },
  {
   "cell_type": "code",
   "execution_count": 92,
   "metadata": {},
   "outputs": [
    {
     "data": {
      "text/plain": [
       "(array([2, 2, 2], dtype=int64), array([0, 1, 2], dtype=int64))"
      ]
     },
     "execution_count": 92,
     "metadata": {},
     "output_type": "execute_result"
    }
   ],
   "source": [
    "np.where(ar>6)"
   ]
  },
  {
   "cell_type": "code",
   "execution_count": 93,
   "metadata": {},
   "outputs": [
    {
     "data": {
      "text/plain": [
       "9"
      ]
     },
     "execution_count": 93,
     "metadata": {},
     "output_type": "execute_result"
    }
   ],
   "source": [
    "np.count_nonzero(ar)"
   ]
  },
  {
   "cell_type": "code",
   "execution_count": 94,
   "metadata": {},
   "outputs": [],
   "source": [
    "ar[0,1] = 0"
   ]
  },
  {
   "cell_type": "code",
   "execution_count": 95,
   "metadata": {},
   "outputs": [
    {
     "data": {
      "text/plain": [
       "array([[1, 0, 3],\n",
       "       [4, 5, 6],\n",
       "       [7, 8, 9]])"
      ]
     },
     "execution_count": 95,
     "metadata": {},
     "output_type": "execute_result"
    }
   ],
   "source": [
    "ar"
   ]
  },
  {
   "cell_type": "code",
   "execution_count": 96,
   "metadata": {},
   "outputs": [
    {
     "data": {
      "text/plain": [
       "8"
      ]
     },
     "execution_count": 96,
     "metadata": {},
     "output_type": "execute_result"
    }
   ],
   "source": [
    "np.count_nonzero(ar)"
   ]
  },
  {
   "cell_type": "code",
   "execution_count": 97,
   "metadata": {},
   "outputs": [
    {
     "data": {
      "text/plain": [
       "(array([0, 0, 1, 1, 1, 2, 2, 2], dtype=int64),\n",
       " array([0, 2, 0, 1, 2, 0, 1, 2], dtype=int64))"
      ]
     },
     "execution_count": 97,
     "metadata": {},
     "output_type": "execute_result"
    }
   ],
   "source": [
    "np.nonzero(ar)"
   ]
  },
  {
   "cell_type": "markdown",
   "metadata": {},
   "source": [
    "# How numpy array take less memory and time?"
   ]
  },
  {
   "cell_type": "code",
   "execution_count": 98,
   "metadata": {},
   "outputs": [],
   "source": [
    "import sys"
   ]
  },
  {
   "cell_type": "code",
   "execution_count": 99,
   "metadata": {},
   "outputs": [],
   "source": [
    "py_ar = [1,2,3,4]"
   ]
  },
  {
   "cell_type": "code",
   "execution_count": 100,
   "metadata": {},
   "outputs": [],
   "source": [
    "numpy_arr = np.array(py_ar)"
   ]
  },
  {
   "cell_type": "code",
   "execution_count": 101,
   "metadata": {},
   "outputs": [
    {
     "data": {
      "text/plain": [
       "112"
      ]
     },
     "execution_count": 101,
     "metadata": {},
     "output_type": "execute_result"
    }
   ],
   "source": [
    "sys.getsizeof(1) * len(py_ar)"
   ]
  },
  {
   "cell_type": "code",
   "execution_count": 102,
   "metadata": {},
   "outputs": [
    {
     "data": {
      "text/plain": [
       "4"
      ]
     },
     "execution_count": 102,
     "metadata": {},
     "output_type": "execute_result"
    }
   ],
   "source": [
    "len(py_ar)"
   ]
  },
  {
   "cell_type": "code",
   "execution_count": 103,
   "metadata": {},
   "outputs": [
    {
     "data": {
      "text/plain": [
       "16"
      ]
     },
     "execution_count": 103,
     "metadata": {},
     "output_type": "execute_result"
    }
   ],
   "source": [
    "numpy_arr.itemsize * len(numpy_arr)"
   ]
  },
  {
   "cell_type": "code",
   "execution_count": null,
   "metadata": {},
   "outputs": [],
   "source": []
  }
 ],
 "metadata": {
  "kernelspec": {
   "display_name": "Python 3 (ipykernel)",
   "language": "python",
   "name": "python3"
  },
  "language_info": {
   "codemirror_mode": {
    "name": "ipython",
    "version": 3
   },
   "file_extension": ".py",
   "mimetype": "text/x-python",
   "name": "python",
   "nbconvert_exporter": "python",
   "pygments_lexer": "ipython3",
   "version": "3.10.9"
  }
 },
 "nbformat": 4,
 "nbformat_minor": 2
}
