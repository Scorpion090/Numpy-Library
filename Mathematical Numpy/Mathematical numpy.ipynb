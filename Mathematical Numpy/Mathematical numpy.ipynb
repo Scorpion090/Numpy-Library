{
 "cells": [
  {
   "cell_type": "markdown",
   "id": "3f12da07",
   "metadata": {},
   "source": [
    "# We can find the mean median and mode with the help of numpy : "
   ]
  },
  {
   "cell_type": "code",
   "execution_count": 1,
   "id": "017505b7",
   "metadata": {},
   "outputs": [
    {
     "name": "stdout",
     "output_type": "stream",
     "text": [
      "The mean of [2, 4, 6, 8, 10] is  = 6.0\n"
     ]
    }
   ],
   "source": [
    "import numpy as np\n",
    "speed = [2,4,6,8,10]\n",
    "m = np.mean(speed)\n",
    "print(F\"The mean of {speed} is  = {m}\")"
   ]
  },
  {
   "cell_type": "markdown",
   "id": "b32784b6",
   "metadata": {},
   "source": [
    "# Something like this we can also find the median and mode : "
   ]
  },
  {
   "cell_type": "code",
   "execution_count": 2,
   "id": "56538c0e",
   "metadata": {},
   "outputs": [
    {
     "name": "stdout",
     "output_type": "stream",
     "text": [
      "The mode of [2, 4, 6, 8, 10] is   = 6.0\n"
     ]
    }
   ],
   "source": [
    "m1 = np.median(speed)\n",
    "print(f\"The mode of {speed} is   = {m1}\")"
   ]
  },
  {
   "cell_type": "markdown",
   "id": "7be16f12",
   "metadata": {},
   "source": [
    "# To find the mode we need to scipy(Scientific python) for calculate the mode :"
   ]
  },
  {
   "cell_type": "code",
   "execution_count": 3,
   "id": "bdf91ed6",
   "metadata": {},
   "outputs": [
    {
     "name": "stdout",
     "output_type": "stream",
     "text": [
      "The mode of [2, 4, 6, 8, 10] is = ModeResult(mode=array([2]), count=array([1]))\n"
     ]
    },
    {
     "name": "stderr",
     "output_type": "stream",
     "text": [
      "C:\\Windows\\Temp\\ipykernel_10132\\3844965974.py:2: FutureWarning: Unlike other reduction functions (e.g. `skew`, `kurtosis`), the default behavior of `mode` typically preserves the axis it acts along. In SciPy 1.11.0, this behavior will change: the default value of `keepdims` will become False, the `axis` over which the statistic is taken will be eliminated, and the value None will no longer be accepted. Set `keepdims` to True or False to avoid this warning.\n",
      "  m3 = stats.mode(speed)\n"
     ]
    }
   ],
   "source": [
    "from scipy import stats\n",
    "m3 = stats.mode(speed)\n",
    "print(f\"The mode of {speed} is = {m3}\")"
   ]
  },
  {
   "cell_type": "markdown",
   "id": "bca7d9a1",
   "metadata": {},
   "source": [
    "# We could be done this with the help of statistics model of python : "
   ]
  },
  {
   "cell_type": "code",
   "execution_count": 6,
   "id": "fa71b4a0",
   "metadata": {},
   "outputs": [
    {
     "name": "stdout",
     "output_type": "stream",
     "text": [
      "6\n",
      "6\n",
      "2\n"
     ]
    }
   ],
   "source": [
    "import statistics as s\n",
    "m = s.mean(speed)\n",
    "m1 = s.median(speed)\n",
    "m2 = s.mode(speed)\n",
    "print(m)\n",
    "print(m1)\n",
    "print(m2)"
   ]
  },
  {
   "cell_type": "markdown",
   "id": "66d270a1",
   "metadata": {},
   "source": [
    "# Count the frequency for each value  :"
   ]
  },
  {
   "cell_type": "code",
   "execution_count": 9,
   "id": "0cc80b96",
   "metadata": {},
   "outputs": [
    {
     "name": "stdout",
     "output_type": "stream",
     "text": [
      "Counter({2: 1, 4: 1, 6: 1, 8: 1, 10: 1})\n"
     ]
    }
   ],
   "source": [
    "from collections import Counter\n",
    "speed_counter = Counter(speed)\n",
    "print(speed_counter)"
   ]
  },
  {
   "cell_type": "markdown",
   "id": "609d210d",
   "metadata": {},
   "source": [
    "# Find the range with the help of numpy library :"
   ]
  },
  {
   "cell_type": "code",
   "execution_count": 11,
   "id": "9d0b562c",
   "metadata": {},
   "outputs": [
    {
     "name": "stdout",
     "output_type": "stream",
     "text": [
      "The range is  = 8\n"
     ]
    }
   ],
   "source": [
    "rng = np.ptp(speed)\n",
    "print(f\"The range is  = {rng}\")"
   ]
  },
  {
   "cell_type": "markdown",
   "id": "883184ea",
   "metadata": {},
   "source": [
    "# We can also calculate the range with the help of statistics :"
   ]
  },
  {
   "cell_type": "code",
   "execution_count": 14,
   "id": "cfa83279",
   "metadata": {},
   "outputs": [
    {
     "name": "stdout",
     "output_type": "stream",
     "text": [
      "The range is  =  8\n"
     ]
    }
   ],
   "source": [
    "rn = max(speed) -  min(speed)\n",
    "print(\"The range is  = \",rn)"
   ]
  },
  {
   "cell_type": "code",
   "execution_count": null,
   "id": "c5a47974",
   "metadata": {},
   "outputs": [],
   "source": []
  }
 ],
 "metadata": {
  "kernelspec": {
   "display_name": "Python 3 (ipykernel)",
   "language": "python",
   "name": "python3"
  },
  "language_info": {
   "codemirror_mode": {
    "name": "ipython",
    "version": 3
   },
   "file_extension": ".py",
   "mimetype": "text/x-python",
   "name": "python",
   "nbconvert_exporter": "python",
   "pygments_lexer": "ipython3",
   "version": "3.10.9"
  }
 },
 "nbformat": 4,
 "nbformat_minor": 5
}
